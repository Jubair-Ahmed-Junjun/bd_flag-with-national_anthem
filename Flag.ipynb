{
 "cells": [
  {
   "cell_type": "markdown",
   "metadata": {},
   "source": [
    "# মহান বিজয় দিবসের শুভেচ্ছা\n"
   ]
  },
  {
   "cell_type": "code",
   "execution_count": null,
   "metadata": {},
   "outputs": [],
   "source": [
    "import sounddevice as sd\n",
    "from scipy.io.wavfile import write\n",
    "import pygame\n",
    "import time\n",
    "import random"
   ]
  },
  {
   "cell_type": "code",
   "execution_count": null,
   "metadata": {},
   "outputs": [],
   "source": [
    "import turtle\n",
    "import pygame\n",
    "\n",
    "sc = turtle.Screen()\n",
    "sc.title(\"আমার সোনার বাংলা\")\n",
    "style = ('red', 20, 'italic')\n",
    "turtle.write('মহান বিজয় দিবসের শুভেচ্ছা', font=style, align='right')\n",
    "\n",
    "pygame.mixer.init()\n",
    "pygame.mixer.music.load('আমার সোনার বাংলা  দেশ বরেণ্য ৫০ জন শিল্পীর কন্ঠে জাতীয় সংগীত.mp3')\n",
    "pygame.mixer.music.set_volume(0.5)\n",
    "pygame.mixer.music.play(1)\n",
    "\n",
    "\n",
    "t=turtle.Turtle()\n",
    "t.speed(1)\n",
    "\n",
    "win=turtle.Screen()\n",
    "win.bgcolor(\"white\")\n",
    "\n",
    "\n",
    "def ractangle(color):\n",
    "    t.begin_fill()\n",
    "    t.fillcolor(color)\n",
    "    for i in range(2):\n",
    "        t.forward(300)\n",
    "        t.right(90)\n",
    "        t.forward(200)\n",
    "        t.right(90)\n",
    "    t.end_fill()\n",
    "def circle(color):\n",
    "    t.begin_fill()\n",
    "    t.fillcolor(color)\n",
    "    t.circle(-70)\n",
    "    t.end_fill()\n",
    "\n",
    "t.up()\n",
    "t.goto(0, -200)\n",
    "t.down()\n",
    "t.goto(0, 200)\n",
    "ractangle('green')\n",
    "\n",
    "t.goto(0,170)\n",
    "t.color('green')\n",
    "t.forward(150)\n",
    "circle('red')\n",
    "\n",
    "\n",
    "\n",
    "t.hideturtle()\n",
    "\n",
    "turtle.done()"
   ]
  },
  {
   "cell_type": "code",
   "execution_count": null,
   "metadata": {},
   "outputs": [],
   "source": []
  }
 ],
 "metadata": {
  "kernelspec": {
   "display_name": "Python 3",
   "language": "python",
   "name": "python3"
  },
  "language_info": {
   "codemirror_mode": {
    "name": "ipython",
    "version": 3
   },
   "file_extension": ".py",
   "mimetype": "text/x-python",
   "name": "python",
   "nbconvert_exporter": "python",
   "pygments_lexer": "ipython3",
   "version": "3.8.5"
  }
 },
 "nbformat": 4,
 "nbformat_minor": 4
}
